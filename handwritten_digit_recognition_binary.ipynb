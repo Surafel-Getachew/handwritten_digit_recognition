{
  "nbformat": 4,
  "nbformat_minor": 0,
  "metadata": {
    "colab": {
      "provenance": [],
      "collapsed_sections": [],
      "toc_visible": true,
      "authorship_tag": "ABX9TyOviEqhcHK7Sw7Kv6TX0q8T",
      "include_colab_link": true
    },
    "kernelspec": {
      "name": "python3",
      "display_name": "Python 3"
    },
    "language_info": {
      "name": "python"
    }
  },
  "cells": [
    {
      "cell_type": "markdown",
      "metadata": {
        "id": "view-in-github",
        "colab_type": "text"
      },
      "source": [
        "<a href=\"https://colab.research.google.com/github/Surafel-Getachew/handwritten_digit_recognition/blob/main/handwritten_digit_recognition_binary.ipynb\" target=\"_parent\"><img src=\"https://colab.research.google.com/assets/colab-badge.svg\" alt=\"Open In Colab\"/></a>"
      ]
    },
    {
      "cell_type": "code",
      "execution_count": 22,
      "metadata": {
        "id": "EpIxTkzBiOAp"
      },
      "outputs": [],
      "source": [
        "import numpy as np\n",
        "import tensorflow as tf\n",
        "from tensorflow.keras.models import Sequential\n",
        "from tensorflow.keras.layers import Dense\n",
        "import matplotlib.pyplot as plt\n",
        "%matplotlib inline\n",
        "import logging\n",
        "logging.getLogger(\"tensorflow\").setLevel(logging.ERROR)\n",
        "tf.autograph.set_verbosity(0)"
      ]
    },
    {
      "cell_type": "markdown",
      "source": [
        "## Problem statment\n",
        "\n",
        "use a neural network to recognize two handwritten digits, zero and one. This is a binary classification task. Automated handwritten digit recognition is widely used today - from recognizing zip codes (postal codes) on mail envelopes to recognizing amounts written on bank checks. You will extend this network to recognize all 10 digits (0-9) in a future assignment."
      ],
      "metadata": {
        "id": "9T2qAbo_jYku"
      }
    },
    {
      "cell_type": "markdown",
      "source": [
        "## Dataset"
      ],
      "metadata": {
        "id": "AzFX28Plo-Ay"
      }
    },
    {
      "cell_type": "code",
      "source": [
        "import numpy as np\n",
        "from google.colab import drive\n",
        "drive.mount(\"/content/drive\")\n",
        "\n",
        "def load_data():\n",
        "    X = np.load(\"/content/drive/MyDrive/data/X.npy\")\n",
        "    y = np.load(\"/content/drive/MyDrive/data/y.npy\")\n",
        "    X = X[0:1000]\n",
        "    y = y[0:1000]\n",
        "    return X,y\n",
        "\n",
        "def load_weights():\n",
        "    w1 = np.load(\"data/w1.npy\")\n",
        "    b1 = np.load(\"data/b1.npy\")\n",
        "    w2 = np.load(\"data/w2.npy\")\n",
        "    b2 = np.load(\"data/b2.npy\")\n",
        "    return w1, b1, w2, b2\n",
        "\n",
        "def sigmoid(x):\n",
        "    return 1. / (1. + np.exp(-x))\n"
      ],
      "metadata": {
        "id": "VJwjmVRspCCs",
        "colab": {
          "base_uri": "https://localhost:8080/"
        },
        "outputId": "97d34ab9-990c-4f11-c5ac-0bf9fbad1098"
      },
      "execution_count": 18,
      "outputs": [
        {
          "output_type": "stream",
          "name": "stdout",
          "text": [
            "Drive already mounted at /content/drive; to attempt to forcibly remount, call drive.mount(\"/content/drive\", force_remount=True).\n"
          ]
        }
      ]
    },
    {
      "cell_type": "code",
      "source": [
        "# load datasets\n",
        "X,y = load_data()"
      ],
      "metadata": {
        "id": "5Qgl_Iy_OVCM"
      },
      "execution_count": 20,
      "outputs": []
    },
    {
      "cell_type": "code",
      "source": [
        "print ('The shape of X is: ' + str(X.shape))\n",
        "print ('The shape of y is: ' + str(y.shape))"
      ],
      "metadata": {
        "id": "oV-5oZ8wO6Fc",
        "colab": {
          "base_uri": "https://localhost:8080/"
        },
        "outputId": "c34a39fd-0281-46b5-c990-51c32d92eb57"
      },
      "execution_count": 21,
      "outputs": [
        {
          "output_type": "stream",
          "name": "stdout",
          "text": [
            "The shape of X is: (1000, 400)\n",
            "The shape of y is: (1000, 1)\n"
          ]
        }
      ]
    },
    {
      "cell_type": "markdown",
      "source": [
        "## Visualizing data"
      ],
      "metadata": {
        "id": "sZKLK7l7Q7XN"
      }
    },
    {
      "cell_type": "code",
      "source": [
        "import warnings\n",
        "warnings.simplefilter(action='ignore', category=FutureWarning)\n",
        "# You do not need to modify anything in this cell\n",
        "\n",
        "m, n = X.shape\n",
        "\n",
        "fig, axes = plt.subplots(8,8, figsize=(8,8))\n",
        "fig.tight_layout(pad=0.1)\n",
        "\n",
        "for i,ax in enumerate(axes.flat):\n",
        "    # Select random indices\n",
        "    random_index = np.random.randint(m)\n",
        "    \n",
        "    # Select rows corresponding to the random indices and\n",
        "    # reshape the image\n",
        "    X_random_reshaped = X[random_index].reshape((20,20)).T\n",
        "    \n",
        "    # Display the image\n",
        "    ax.imshow(X_random_reshaped, cmap='gray')\n",
        "    \n",
        "    # Display the label above the image\n",
        "    ax.set_title(y[random_index,0])\n",
        "    ax.set_axis_off()"
      ],
      "metadata": {
        "id": "5g-NKwDhRASl"
      },
      "execution_count": null,
      "outputs": []
    },
    {
      "cell_type": "markdown",
      "source": [
        "## TF, Numpy and Vectorized implementation for forward prop "
      ],
      "metadata": {
        "id": "GnjCzUN3Jdfs"
      }
    },
    {
      "cell_type": "markdown",
      "source": [
        "### TF Model Implementation"
      ],
      "metadata": {
        "id": "ujSP-qGbRiBn"
      }
    },
    {
      "cell_type": "code",
      "source": [
        "model = Sequential (\n",
        "    [\n",
        "        tf.keras.Input(shape=(400,)), # specify input size (optional)\n",
        "        Dense(units=25,activation=\"sigmoid\"),\n",
        "        Dense(units=15,activation=\"sigmoid\"),\n",
        "        Dense(units=1,activation=\"sigmoid\")\n",
        "    ],\n",
        "    name=\"my_model\"\n",
        ")"
      ],
      "metadata": {
        "id": "ilFY-TTeRk9B"
      },
      "execution_count": 36,
      "outputs": []
    },
    {
      "cell_type": "code",
      "source": [
        "model.summary()"
      ],
      "metadata": {
        "id": "1fxYkMWMSgr6"
      },
      "execution_count": null,
      "outputs": []
    },
    {
      "cell_type": "code",
      "source": [
        "L1_num_params = 400 * 25 + 25  # W1 parameters  + b1 parameters\n",
        "L2_num_params = 25 * 15 + 15   # W2 parameters  + b2 parameters\n",
        "L3_num_params = 15 * 1 + 1     # W3 parameters  + b3 parameters\n",
        "print(\"L1 params = \", L1_num_params, \", L2 params = \", L2_num_params, \",  L3 params = \", L3_num_params )\n"
      ],
      "metadata": {
        "colab": {
          "base_uri": "https://localhost:8080/"
        },
        "id": "4BqdSggtS9iP",
        "outputId": "02597739-6908-4144-b469-9c33871d7846"
      },
      "execution_count": 38,
      "outputs": [
        {
          "output_type": "stream",
          "name": "stdout",
          "text": [
            "L1 params =  10025 , L2 params =  390 ,  L3 params =  16\n"
          ]
        }
      ]
    },
    {
      "cell_type": "code",
      "source": [
        "[layer1,layer2,layer3] = model.layers"
      ],
      "metadata": {
        "id": "-polG_3jTP6Y"
      },
      "execution_count": 39,
      "outputs": []
    },
    {
      "cell_type": "code",
      "source": [
        "w1,b1 = layer1.get_weights()\n",
        "w2,b2 = layer2.get_weights()\n",
        "w3,b3 = layer3.get_weights()\n",
        "print(f\"w1 {w1.shape} b1:{b1.shape}\")\n",
        "print(f\"w2 {w2.shape} b3:{b2.shape}\")\n",
        "print(f\"w3 {w3.shape} b3:{b3.shape}\")\n"
      ],
      "metadata": {
        "colab": {
          "base_uri": "https://localhost:8080/"
        },
        "id": "O3aMsbmZTXDi",
        "outputId": "e1a599bf-1db1-4da2-bd1c-4e17085dc386"
      },
      "execution_count": 42,
      "outputs": [
        {
          "output_type": "stream",
          "name": "stdout",
          "text": [
            "w1 (400, 25) b1:(25,)\n",
            "w2 (25, 15) b3:(15,)\n",
            "w3 (15, 1) b3:(1,)\n"
          ]
        }
      ]
    },
    {
      "cell_type": "code",
      "source": [
        "model.compile(\n",
        "    loss=tf.keras.losses.BinaryCrossentropy(),\n",
        "    optimizer = tf.keras.optimizers.Adam(0.01)\n",
        ")\n",
        "\n",
        "model.fit(X,y,epochs=20)"
      ],
      "metadata": {
        "id": "9tJ_VJxYUCsE"
      },
      "execution_count": null,
      "outputs": []
    },
    {
      "cell_type": "code",
      "source": [
        "prediction = model.predict(X[0].reshape(1,400))\n",
        "print(f\" predicting a zero: {prediction}\")\n",
        "prediction = model.predict(X[500].reshape(1,400))\n",
        "print(f\" predicting a one {prediction}\")"
      ],
      "metadata": {
        "colab": {
          "base_uri": "https://localhost:8080/"
        },
        "id": "a8g2dCnOWijz",
        "outputId": "8aa636ab-4587-4212-f4dd-a2736f33be2c"
      },
      "execution_count": 48,
      "outputs": [
        {
          "output_type": "stream",
          "name": "stdout",
          "text": [
            "1/1 [==============================] - 0s 80ms/step\n",
            " predicting a zero: [[0.00035802]]\n",
            "1/1 [==============================] - 0s 18ms/step\n",
            " predicting a one [[0.99927914]]\n"
          ]
        }
      ]
    },
    {
      "cell_type": "code",
      "source": [
        "if prediction >= 0.5:\n",
        "  yhat = 1\n",
        "else:\n",
        "  yhat = 0\n",
        "\n",
        "print(f\"Prediction after threshold: {yhat}\")"
      ],
      "metadata": {
        "colab": {
          "base_uri": "https://localhost:8080/"
        },
        "id": "uYxv8btbXI66",
        "outputId": "9b41a096-1323-4c30-852d-03c2027c0b3f"
      },
      "execution_count": 50,
      "outputs": [
        {
          "output_type": "stream",
          "name": "stdout",
          "text": [
            "Prediction after threshold: 1\n"
          ]
        }
      ]
    },
    {
      "cell_type": "markdown",
      "source": [
        "Let's compare the predictions vs the labels for a random sample of 64 digits. This takes a moment to run."
      ],
      "metadata": {
        "id": "O74KmJHoXr5z"
      }
    },
    {
      "cell_type": "code",
      "source": [
        "import warnings\n",
        "warnings.simplefilter(action='ignore', category=FutureWarning)\n",
        "# You do not need to modify anything in this cell\n",
        "\n",
        "m, n = X.shape\n",
        "\n",
        "fig, axes = plt.subplots(8,8, figsize=(8,8))\n",
        "fig.tight_layout(pad=0.1,rect=[0, 0.03, 1, 0.92]) #[left, bottom, right, top]\n",
        "\n",
        "for i,ax in enumerate(axes.flat):\n",
        "    # Select random indices\n",
        "    random_index = np.random.randint(m)\n",
        "    \n",
        "    # Select rows corresponding to the random indices and\n",
        "    # reshape the image\n",
        "    X_random_reshaped = X[random_index].reshape((20,20)).T\n",
        "    \n",
        "    # Display the image\n",
        "    ax.imshow(X_random_reshaped, cmap='gray')\n",
        "    \n",
        "    # Predict using the Neural Network\n",
        "    prediction = model.predict(X[random_index].reshape(1,400))\n",
        "    if prediction >= 0.5:\n",
        "        yhat = 1\n",
        "    else:\n",
        "        yhat = 0\n",
        "    \n",
        "    # Display the label above the image\n",
        "    ax.set_title(f\"{y[random_index,0]},{yhat}\")\n",
        "    ax.set_axis_off()\n",
        "fig.suptitle(\"Label, yhat\", fontsize=16)\n",
        "plt.show()\n"
      ],
      "metadata": {
        "id": "2pkQN08kXs57"
      },
      "execution_count": null,
      "outputs": []
    },
    {
      "cell_type": "markdown",
      "source": [
        "### NumPy Model Implementation (Forward Prop in NumPy)"
      ],
      "metadata": {
        "id": "rx8xzrUtfTBx"
      }
    },
    {
      "cell_type": "code",
      "source": [
        "def my_dense (a_in,W,b,g):\n",
        "  units = W.shape[1]\n",
        "  a_out = np.zeros(units)\n",
        "\n",
        "  for i in range(units):\n",
        "    w = W[:,i]\n",
        "    z = np.dot(a_in,w) + b[i]\n",
        "    a_out[i] = g(z)\n",
        "  return a_out"
      ],
      "metadata": {
        "id": "HPfJCH3QfacR"
      },
      "execution_count": 53,
      "outputs": []
    },
    {
      "cell_type": "code",
      "source": [
        "x_tst = 0.1*np.arange(1,3,1).reshape(2,)  # (1 examples, 2 features) [0.1 0.2]\n",
        "\n",
        "W_tst = 0.1*np.arange(1,7,1).reshape(2,3) # (2 input features, 3 output features) [[0.1 0.2 0.3]\n",
        "                                                                                # [[0.4 0.5 0.6]]\n",
        "b_tst = 0.1*np.arange(1,4,1).reshape(3,)  # (3 features) [0.1 0.2 0.3]\n",
        "\n",
        "A_tst = my_dense(x_tst, W_tst, b_tst, sigmoid)\n",
        "\n",
        "print(A_tst)"
      ],
      "metadata": {
        "colab": {
          "base_uri": "https://localhost:8080/"
        },
        "id": "5ahN36jVhLg3",
        "outputId": "8603d3b3-b1dd-4c7d-ff4c-46821220c642"
      },
      "execution_count": 66,
      "outputs": [
        {
          "output_type": "stream",
          "name": "stdout",
          "text": [
            "[0.54735762 0.57932425 0.61063923]\n"
          ]
        }
      ]
    },
    {
      "cell_type": "code",
      "source": [
        "def my_sequential (x,W1,b1,W2,b2,W3,b3):\n",
        "  a1 = my_dense(x,W1,b1,sigmoid)\n",
        "  a2 = my_dense(a1,W2,b2,sigmoid)\n",
        "  a3 = my_dense(a2,W3,b3,sigmoid)\n",
        "  return a3"
      ],
      "metadata": {
        "id": "Xn2CUa_IiAIK"
      },
      "execution_count": 84,
      "outputs": []
    },
    {
      "cell_type": "markdown",
      "source": [
        "We can copy trained weights and biases from Tensorflow."
      ],
      "metadata": {
        "id": "Ji19Fpk5mb5A"
      }
    },
    {
      "cell_type": "code",
      "source": [
        "W1_tmp,b1_tmp = layer1.get_weights()\n",
        "W2_tmp,b2_tmp = layer2.get_weights()\n",
        "W3_tmp,b3_tmp = layer3.get_weights()"
      ],
      "metadata": {
        "id": "1oo2w6dZme8q"
      },
      "execution_count": 72,
      "outputs": []
    },
    {
      "cell_type": "code",
      "source": [
        "# make predictions\n",
        "prediction = my_sequential(X[0], W1_tmp, b1_tmp, W2_tmp, b2_tmp, W3_tmp, b3_tmp )\n",
        "if prediction >= 0.5:\n",
        "    yhat = 1\n",
        "else:\n",
        "    yhat = 0\n",
        "print( \"yhat = \", yhat, \" label= \", y[0,0])\n",
        "prediction = my_sequential(X[500], W1_tmp, b1_tmp, W2_tmp, b2_tmp, W3_tmp, b3_tmp )\n",
        "if prediction >= 0.5:\n",
        "    yhat = 1\n",
        "else:\n",
        "    yhat = 0\n",
        "print( \"yhat = \", yhat, \" label= \", y[500,0])"
      ],
      "metadata": {
        "id": "fO5VM50mqJAe",
        "colab": {
          "base_uri": "https://localhost:8080/"
        },
        "outputId": "cc11a29f-a935-435e-d4e1-49a137e6126b"
      },
      "execution_count": 86,
      "outputs": [
        {
          "output_type": "stream",
          "name": "stdout",
          "text": [
            "yhat =  0  label=  0\n",
            "yhat =  1  label=  1\n"
          ]
        }
      ]
    },
    {
      "cell_type": "code",
      "source": [
        "import warnings\n",
        "warnings.simplefilter(action='ignore', category=FutureWarning)\n",
        "# You do not need to modify anything in this cell\n",
        "\n",
        "m, n = X.shape\n",
        "\n",
        "fig, axes = plt.subplots(8,8, figsize=(8,8))\n",
        "fig.tight_layout(pad=0.1,rect=[0, 0.03, 1, 0.92]) #[left, bottom, right, top]\n",
        "\n",
        "for i,ax in enumerate(axes.flat):\n",
        "    # Select random indices\n",
        "    random_index = np.random.randint(m)\n",
        "    \n",
        "    # Select rows corresponding to the random indices and\n",
        "    # reshape the image\n",
        "    X_random_reshaped = X[random_index].reshape((20,20)).T\n",
        "    \n",
        "    # Display the image\n",
        "    ax.imshow(X_random_reshaped, cmap='gray')\n",
        "\n",
        "    # Predict using the Neural Network implemented in Numpy\n",
        "    my_prediction = my_sequential(X[random_index], W1_tmp, b1_tmp, W2_tmp, b2_tmp, W3_tmp, b3_tmp )\n",
        "    my_yhat = int(my_prediction >= 0.5)\n",
        "\n",
        "    # Predict using the Neural Network implemented in Tensorflow\n",
        "    tf_prediction = model.predict(X[random_index].reshape(1,400))\n",
        "    tf_yhat = int(tf_prediction >= 0.5)\n",
        "    \n",
        "    # Display the label above the image\n",
        "    ax.set_title(f\"{y[random_index,0]},{tf_yhat},{my_yhat}\")\n",
        "    ax.set_axis_off() \n",
        "fig.suptitle(\"Label, yhat Tensorflow, yhat Numpy\", fontsize=16)\n",
        "plt.show()"
      ],
      "metadata": {
        "id": "nfRQgVyxtpAp"
      },
      "execution_count": null,
      "outputs": []
    },
    {
      "cell_type": "markdown",
      "source": [
        "### Vectorized Numpy implementation"
      ],
      "metadata": {
        "id": "lx3Af02V_s-m"
      }
    },
    {
      "cell_type": "code",
      "source": [
        "def my_dense_v(A_in,w,b,g,):\n",
        "  z = np.matmul(A_in,w) + b\n",
        "  A_out = g(z)\n",
        "\n",
        "  return A_out\n"
      ],
      "metadata": {
        "id": "VR8DcHpV_xOL"
      },
      "execution_count": 105,
      "outputs": []
    },
    {
      "cell_type": "code",
      "source": [
        "X_tst = 0.1*np.arange(1,9,1).reshape(4,2) # (4 examples, 2 features)\n",
        "W_tst = 0.1*np.arange(1,7,1).reshape(2,3) # (2 input features, 3 output features)\n",
        "b_tst = 0.1*np.arange(1,4,1).reshape(1,3) # (1, 3 features)\n",
        "\n",
        "A_tst = my_dense_v(X_tst, W_tst, b_tst, sigmoid)\n",
        "print(A_tst)"
      ],
      "metadata": {
        "id": "rpPmf2OWCAUV"
      },
      "execution_count": null,
      "outputs": []
    },
    {
      "cell_type": "code",
      "source": [
        "def my_sequential_v(X, W1, b1, W2, b2, W3, b3):\n",
        "    A1 = my_dense_v(X,  W1, b1, sigmoid)\n",
        "    A2 = my_dense_v(A1, W2, b2, sigmoid)\n",
        "    A3 = my_dense_v(A2, W3, b3, sigmoid)\n",
        "    return(A3)"
      ],
      "metadata": {
        "id": "O-ARlDO7DFg2"
      },
      "execution_count": 107,
      "outputs": []
    },
    {
      "cell_type": "code",
      "source": [
        "W1_tmp,b1_tmp = layer1.get_weights()\n",
        "W2_tmp,b2_tmp = layer2.get_weights()\n",
        "W3_tmp,b3_tmp = layer3.get_weights()"
      ],
      "metadata": {
        "id": "Ln1eqNWtDJur"
      },
      "execution_count": 108,
      "outputs": []
    },
    {
      "cell_type": "markdown",
      "source": [
        "Let's make a prediction with the new model. This will make a prediction on all of the examples at once. Note the shape of the output."
      ],
      "metadata": {
        "id": "Ouu_D9x7DZkS"
      }
    },
    {
      "cell_type": "code",
      "source": [
        "Prediction = my_sequential_v(X, W1_tmp, b1_tmp, W2_tmp, b2_tmp, W3_tmp, b3_tmp )\n",
        "Prediction.shape\n"
      ],
      "metadata": {
        "colab": {
          "base_uri": "https://localhost:8080/"
        },
        "id": "PnUyoqWTDV3E",
        "outputId": "66cf90ee-0e98-49fe-be2b-ac22817593b0"
      },
      "execution_count": 109,
      "outputs": [
        {
          "output_type": "execute_result",
          "data": {
            "text/plain": [
              "(1000, 1)"
            ]
          },
          "metadata": {},
          "execution_count": 109
        }
      ]
    },
    {
      "cell_type": "markdown",
      "source": [
        "We'll apply a threshold of 0.5 as before, but to all predictions at once."
      ],
      "metadata": {
        "id": "a6IhaMZkD68r"
      }
    },
    {
      "cell_type": "code",
      "source": [
        "Yhat = (Prediction >= 0.5).astype(int)\n",
        "print(\"predict a zero: \",Yhat[0], \"predict a one: \", Yhat[500])"
      ],
      "metadata": {
        "colab": {
          "base_uri": "https://localhost:8080/"
        },
        "id": "V8xvdafrD7-3",
        "outputId": "e722aa3a-510f-4b7a-a0a9-4b5d7e67bf5c"
      },
      "execution_count": 118,
      "outputs": [
        {
          "output_type": "stream",
          "name": "stdout",
          "text": [
            "predict a zero:  [0] predict a one:  [1]\n"
          ]
        }
      ]
    },
    {
      "cell_type": "markdown",
      "source": [
        "Run the following cell to see predictions. This will use the predictions we just calculated above. This takes a moment to run."
      ],
      "metadata": {
        "id": "zdG5evHKGMHS"
      }
    },
    {
      "cell_type": "code",
      "source": [
        "import warnings\n",
        "warnings.simplefilter(action='ignore', category=FutureWarning)\n",
        "# You do not need to modify anything in this cell\n",
        "\n",
        "m, n = X.shape\n",
        "\n",
        "fig, axes = plt.subplots(8, 8, figsize=(8, 8))\n",
        "fig.tight_layout(pad=0.1, rect=[0, 0.03, 1, 0.92]) #[left, bottom, right, top]\n",
        "\n",
        "for i, ax in enumerate(axes.flat):\n",
        "    # Select random indices\n",
        "    random_index = np.random.randint(m)\n",
        "    \n",
        "    # Select rows corresponding to the random indices and\n",
        "    # reshape the image\n",
        "    X_random_reshaped = X[random_index].reshape((20, 20)).T\n",
        "    \n",
        "    # Display the image\n",
        "    ax.imshow(X_random_reshaped, cmap='gray')\n",
        "   \n",
        "    # Display the label above the image\n",
        "    # ax.set_title(f\"{y[random_index,0]}, {Yhat[random_index, 0]}\")\n",
        "    ax.set_title(f\"{Yhat[random_index, 0]}\")\n",
        "    ax.set_axis_off() \n",
        "# fig.suptitle(\"Label, Yhat\", fontsize=16)\n",
        "fig.suptitle(\"Yhat\", fontsize=16)\n",
        "plt.show()"
      ],
      "metadata": {
        "colab": {
          "base_uri": "https://localhost:8080/",
          "height": 560
        },
        "id": "4N5YGAR2GM0b",
        "outputId": "0c81a4df-461c-4144-809c-4cee7a7df2f4"
      },
      "execution_count": 134,
      "outputs": [
        {
          "output_type": "display_data",
          "data": {
            "text/plain": [
              "<Figure size 576x576 with 64 Axes>"
            ],
            "image/png": "[encoded data removed]"
          },
          "metadata": {
            "needs_background": "light"
          }
        }
      ]
    }
  ]
}